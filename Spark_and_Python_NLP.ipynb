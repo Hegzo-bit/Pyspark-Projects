{
  "nbformat": 4,
  "nbformat_minor": 5,
  "metadata": {
    "kernelspec": {
      "display_name": "Python 3",
      "language": "python",
      "name": "python3"
    },
    "language_info": {
      "codemirror_mode": {
        "name": "ipython",
        "version": 3
      },
      "file_extension": ".py",
      "mimetype": "text/x-python",
      "name": "python",
      "nbconvert_exporter": "python",
      "pygments_lexer": "ipython3",
      "version": "3.8.8"
    },
    "colab": {
      "name": "Spark and Python-NLP.ipynb",
      "provenance": []
    }
  },
  "cells": [
    {
      "cell_type": "markdown",
      "metadata": {
        "id": "fa486f23"
      },
      "source": [
        "![image.png](attachment:image.png)"
      ],
      "id": "fa486f23"
    },
    {
      "cell_type": "markdown",
      "metadata": {
        "id": "abbf1e33"
      },
      "source": [
        "##### **Good luck with taking your exam. Keep working and make your dreams all come true. Seeing the results of all of your hard work will make this struggle worth it. We’re all thinking of you.** \n",
        "<b><font color='blue'>AI-PRO Spark Team ITI</font></b>"
      ],
      "id": "abbf1e33"
    },
    {
      "cell_type": "markdown",
      "metadata": {
        "id": "c9da32d6"
      },
      "source": [
        "# NLP Using PySpark"
      ],
      "id": "c9da32d6"
    },
    {
      "cell_type": "markdown",
      "metadata": {
        "id": "8326ba88"
      },
      "source": [
        "## Objective:\n",
        "- The objective from this project is to create a <b>Spam filter using NaiveBayes classifier</b>.\n",
        "- It is required to obtain <b>f1_scored > 0.9</b>.\n",
        "- We'll use a dataset from UCI Repository. SMS Spam Detection: https://archive.ics.uci.edu/ml/datasets/SMS+Spam+Collection\n",
        "- Data is also provided for you in the assignment (you do not have to download it)."
      ],
      "id": "8326ba88"
    },
    {
      "cell_type": "markdown",
      "metadata": {
        "id": "6971f788"
      },
      "source": [
        "## To perform this task follow the following guiding steps:"
      ],
      "id": "6971f788"
    },
    {
      "cell_type": "markdown",
      "metadata": {
        "id": "e31bc851"
      },
      "source": [
        "### Create a spark session and import the required libraries"
      ],
      "id": "e31bc851"
    },
    {
      "cell_type": "code",
      "metadata": {
        "colab": {
          "base_uri": "https://localhost:8080/"
        },
        "id": "6KGvMNW1cGfH",
        "outputId": "dffcfb58-4e61-428e-a54c-a432e85285b8"
      },
      "source": [
        "!pip install pyspark\n"
      ],
      "id": "6KGvMNW1cGfH",
      "execution_count": null,
      "outputs": [
        {
          "output_type": "stream",
          "name": "stdout",
          "text": [
            "Collecting pyspark\n",
            "  Downloading pyspark-3.2.0.tar.gz (281.3 MB)\n",
            "\u001b[K     |████████████████████████████████| 281.3 MB 36 kB/s \n",
            "\u001b[?25hCollecting py4j==0.10.9.2\n",
            "  Downloading py4j-0.10.9.2-py2.py3-none-any.whl (198 kB)\n",
            "\u001b[K     |████████████████████████████████| 198 kB 51.9 MB/s \n",
            "\u001b[?25hBuilding wheels for collected packages: pyspark\n",
            "  Building wheel for pyspark (setup.py) ... \u001b[?25l\u001b[?25hdone\n",
            "  Created wheel for pyspark: filename=pyspark-3.2.0-py2.py3-none-any.whl size=281805912 sha256=94590fc885a3a3c0d94f0b2913b031e66d3933b390564964b306a284e19d7245\n",
            "  Stored in directory: /root/.cache/pip/wheels/0b/de/d2/9be5d59d7331c6c2a7c1b6d1a4f463ce107332b1ecd4e80718\n",
            "Successfully built pyspark\n",
            "Installing collected packages: py4j, pyspark\n",
            "Successfully installed py4j-0.10.9.2 pyspark-3.2.0\n"
          ]
        }
      ]
    },
    {
      "cell_type": "code",
      "metadata": {
        "id": "dcf86e46"
      },
      "source": [
        "\n",
        "import pyspark\n",
        "from pyspark.sql import SparkSession\n",
        "import pyspark.sql.functions as F"
      ],
      "id": "dcf86e46",
      "execution_count": null,
      "outputs": []
    },
    {
      "cell_type": "code",
      "metadata": {
        "id": "NRI5uA-phTv-"
      },
      "source": [
        "spark = SparkSession.builder.getOrCreate()"
      ],
      "id": "NRI5uA-phTv-",
      "execution_count": null,
      "outputs": []
    },
    {
      "cell_type": "markdown",
      "metadata": {
        "id": "90c7df9e"
      },
      "source": [
        "### Read the readme file to learn more about the data"
      ],
      "id": "90c7df9e"
    },
    {
      "cell_type": "markdown",
      "metadata": {
        "id": "2d00718f"
      },
      "source": [
        "### Read the data into a DataFrame"
      ],
      "id": "2d00718f"
    },
    {
      "cell_type": "code",
      "metadata": {
        "id": "29914cf1"
      },
      "source": [
        "df = spark.read.format('csv')\\\n",
        ".option(\"delimiter\", \"\\t\")\\\n",
        ".option(\"inferSchema\", \"true\")\\\n",
        ".load(\"SMSSpamCollection\")\\\n",
        ".coalesce(5)"
      ],
      "id": "29914cf1",
      "execution_count": null,
      "outputs": []
    },
    {
      "cell_type": "markdown",
      "metadata": {
        "id": "182cd7f6"
      },
      "source": [
        "### Print the schema"
      ],
      "id": "182cd7f6"
    },
    {
      "cell_type": "code",
      "metadata": {
        "colab": {
          "base_uri": "https://localhost:8080/"
        },
        "id": "b52706b9",
        "outputId": "ae55674a-8f69-4601-9593-1b381e00cc72"
      },
      "source": [
        "df.printSchema()"
      ],
      "id": "b52706b9",
      "execution_count": null,
      "outputs": [
        {
          "output_type": "stream",
          "name": "stdout",
          "text": [
            "root\n",
            " |-- _c0: string (nullable = true)\n",
            " |-- _c1: string (nullable = true)\n",
            "\n"
          ]
        }
      ]
    },
    {
      "cell_type": "markdown",
      "metadata": {
        "id": "2b90cce7"
      },
      "source": [
        "### Rename the first column to 'class' and second column to 'text'"
      ],
      "id": "2b90cce7"
    },
    {
      "cell_type": "code",
      "metadata": {
        "scrolled": false,
        "id": "f1a88df6"
      },
      "source": [
        " df = df.selectExpr(\"_c0 as class\", \"_c1 as text\")"
      ],
      "id": "f1a88df6",
      "execution_count": null,
      "outputs": []
    },
    {
      "cell_type": "code",
      "metadata": {
        "colab": {
          "base_uri": "https://localhost:8080/"
        },
        "id": "62a544fc",
        "outputId": "20aeb50c-9246-4402-d01a-3bec9ed3ce4f"
      },
      "source": [
        "df.printSchema()"
      ],
      "id": "62a544fc",
      "execution_count": null,
      "outputs": [
        {
          "output_type": "stream",
          "name": "stdout",
          "text": [
            "root\n",
            " |-- class: string (nullable = true)\n",
            " |-- text: string (nullable = true)\n",
            "\n"
          ]
        }
      ]
    },
    {
      "cell_type": "markdown",
      "metadata": {
        "id": "a3e798d0"
      },
      "source": [
        "### Show the first 10 rows from the dataframe\n",
        "- Show once with truncate=True and once with truncate=False"
      ],
      "id": "a3e798d0"
    },
    {
      "cell_type": "code",
      "metadata": {
        "colab": {
          "base_uri": "https://localhost:8080/"
        },
        "id": "362dcb99",
        "outputId": "bd0e1435-418f-4421-dbf5-79358c25f9f2"
      },
      "source": [
        "df.show(n=10,truncate=True)"
      ],
      "id": "362dcb99",
      "execution_count": null,
      "outputs": [
        {
          "output_type": "stream",
          "name": "stdout",
          "text": [
            "+-----+--------------------+\n",
            "|class|                text|\n",
            "+-----+--------------------+\n",
            "|  ham|Go until jurong p...|\n",
            "|  ham|Ok lar... Joking ...|\n",
            "| spam|Free entry in 2 a...|\n",
            "|  ham|U dun say so earl...|\n",
            "|  ham|Nah I don't think...|\n",
            "| spam|FreeMsg Hey there...|\n",
            "|  ham|Even my brother i...|\n",
            "|  ham|As per your reque...|\n",
            "| spam|WINNER!! As a val...|\n",
            "| spam|Had your mobile 1...|\n",
            "+-----+--------------------+\n",
            "only showing top 10 rows\n",
            "\n"
          ]
        }
      ]
    },
    {
      "cell_type": "code",
      "metadata": {
        "colab": {
          "base_uri": "https://localhost:8080/"
        },
        "id": "41609e6b",
        "outputId": "d639dbe3-5de2-45ef-cfc1-697a28d475fb"
      },
      "source": [
        "df.show(n=10,truncate=False)"
      ],
      "id": "41609e6b",
      "execution_count": null,
      "outputs": [
        {
          "output_type": "stream",
          "name": "stdout",
          "text": [
            "+-----+----------------------------------------------------------------------------------------------------------------------------------------------------------------+\n",
            "|class|text                                                                                                                                                            |\n",
            "+-----+----------------------------------------------------------------------------------------------------------------------------------------------------------------+\n",
            "|ham  |Go until jurong point, crazy.. Available only in bugis n great world la e buffet... Cine there got amore wat...                                                 |\n",
            "|ham  |Ok lar... Joking wif u oni...                                                                                                                                   |\n",
            "|spam |Free entry in 2 a wkly comp to win FA Cup final tkts 21st May 2005. Text FA to 87121 to receive entry question(std txt rate)T&C's apply 08452810075over18's     |\n",
            "|ham  |U dun say so early hor... U c already then say...                                                                                                               |\n",
            "|ham  |Nah I don't think he goes to usf, he lives around here though                                                                                                   |\n",
            "|spam |FreeMsg Hey there darling it's been 3 week's now and no word back! I'd like some fun you up for it still? Tb ok! XxX std chgs to send, £1.50 to rcv             |\n",
            "|ham  |Even my brother is not like to speak with me. They treat me like aids patent.                                                                                   |\n",
            "|ham  |As per your request 'Melle Melle (Oru Minnaminunginte Nurungu Vettam)' has been set as your callertune for all Callers. Press *9 to copy your friends Callertune|\n",
            "|spam |WINNER!! As a valued network customer you have been selected to receivea £900 prize reward! To claim call 09061701461. Claim code KL341. Valid 12 hours only.   |\n",
            "|spam |Had your mobile 11 months or more? U R entitled to Update to the latest colour mobiles with camera for Free! Call The Mobile Update Co FREE on 08002986030      |\n",
            "+-----+----------------------------------------------------------------------------------------------------------------------------------------------------------------+\n",
            "only showing top 10 rows\n",
            "\n"
          ]
        }
      ]
    },
    {
      "cell_type": "markdown",
      "metadata": {
        "id": "2fe744a9"
      },
      "source": [
        "## Clean and Prepare the Data"
      ],
      "id": "2fe744a9"
    },
    {
      "cell_type": "markdown",
      "metadata": {
        "id": "4d693167"
      },
      "source": [
        "### Create a new feature column contains the length of the text column"
      ],
      "id": "4d693167"
    },
    {
      "cell_type": "code",
      "metadata": {
        "id": "5424a0cb"
      },
      "source": [
        "df=df.withColumn('lenOtext',F.length('text'))"
      ],
      "id": "5424a0cb",
      "execution_count": null,
      "outputs": []
    },
    {
      "cell_type": "code",
      "metadata": {
        "colab": {
          "base_uri": "https://localhost:8080/"
        },
        "id": "joxtAiRjhY7Z",
        "outputId": "49d81c2f-7f95-408c-ba85-f904c27a10e5"
      },
      "source": [
        "df.show(1)"
      ],
      "id": "joxtAiRjhY7Z",
      "execution_count": null,
      "outputs": [
        {
          "output_type": "stream",
          "name": "stdout",
          "text": [
            "+-----+--------------------+--------+\n",
            "|class|                text|lenOtext|\n",
            "+-----+--------------------+--------+\n",
            "|  ham|Go until jurong p...|     111|\n",
            "+-----+--------------------+--------+\n",
            "only showing top 1 row\n",
            "\n"
          ]
        }
      ]
    },
    {
      "cell_type": "markdown",
      "metadata": {
        "id": "78ea2de6"
      },
      "source": [
        "### Show the new dataframe"
      ],
      "id": "78ea2de6"
    },
    {
      "cell_type": "code",
      "metadata": {
        "scrolled": false,
        "colab": {
          "base_uri": "https://localhost:8080/"
        },
        "id": "04c67c53",
        "outputId": "b8e29fd8-a5fa-4ddb-86d0-5923abfdcb5b"
      },
      "source": [
        "df.show()"
      ],
      "id": "04c67c53",
      "execution_count": null,
      "outputs": [
        {
          "output_type": "stream",
          "name": "stdout",
          "text": [
            "+-----+--------------------+--------+\n",
            "|class|                text|lenOtext|\n",
            "+-----+--------------------+--------+\n",
            "|  ham|Go until jurong p...|     111|\n",
            "|  ham|Ok lar... Joking ...|      29|\n",
            "| spam|Free entry in 2 a...|     155|\n",
            "|  ham|U dun say so earl...|      49|\n",
            "|  ham|Nah I don't think...|      61|\n",
            "| spam|FreeMsg Hey there...|     147|\n",
            "|  ham|Even my brother i...|      77|\n",
            "|  ham|As per your reque...|     160|\n",
            "| spam|WINNER!! As a val...|     157|\n",
            "| spam|Had your mobile 1...|     154|\n",
            "|  ham|I'm gonna be home...|     109|\n",
            "| spam|SIX chances to wi...|     136|\n",
            "| spam|URGENT! You have ...|     155|\n",
            "|  ham|I've been searchi...|     196|\n",
            "|  ham|I HAVE A DATE ON ...|      35|\n",
            "| spam|XXXMobileMovieClu...|     149|\n",
            "|  ham|Oh k...i'm watchi...|      26|\n",
            "|  ham|Eh u remember how...|      81|\n",
            "|  ham|Fine if thats th...|      56|\n",
            "| spam|England v Macedon...|     155|\n",
            "+-----+--------------------+--------+\n",
            "only showing top 20 rows\n",
            "\n"
          ]
        }
      ]
    },
    {
      "cell_type": "markdown",
      "metadata": {
        "id": "692e37a6"
      },
      "source": [
        "### Get the average text length for each class (give alias name to the average length column)"
      ],
      "id": "692e37a6"
    },
    {
      "cell_type": "code",
      "metadata": {
        "colab": {
          "base_uri": "https://localhost:8080/"
        },
        "id": "rn3goXVkjqra",
        "outputId": "6e2f45e3-3036-4281-fa56-9b40c7fd82d8"
      },
      "source": [
        "df.groupBy('class').agg(F.avg('lenOtext').alias('AVG.LENGTH')).show()"
      ],
      "id": "rn3goXVkjqra",
      "execution_count": null,
      "outputs": [
        {
          "output_type": "stream",
          "name": "stdout",
          "text": [
            "+-----+-----------------+\n",
            "|class|       AVG.LENGTH|\n",
            "+-----+-----------------+\n",
            "|  ham|71.45431945307645|\n",
            "| spam|138.6706827309237|\n",
            "+-----+-----------------+\n",
            "\n"
          ]
        }
      ]
    },
    {
      "cell_type": "markdown",
      "metadata": {
        "id": "d5e101af"
      },
      "source": [
        "## Feature Transformations"
      ],
      "id": "d5e101af"
    },
    {
      "cell_type": "markdown",
      "metadata": {
        "id": "838ad9dd"
      },
      "source": [
        "### In this part you transform you raw text in to tf_idf model :\n",
        "- For more information about TF-IDF check the following link: <b>(Not needed for the test)</b>\n",
        "https://en.wikipedia.org/wiki/Tf%E2%80%93idf"
      ],
      "id": "838ad9dd"
    },
    {
      "cell_type": "markdown",
      "metadata": {
        "id": "225067d5"
      },
      "source": [
        "### Perform the following steps to obtain TF-IDF:\n",
        "1. Import the required transformers/estimators for the subsequent steps.\n",
        "2. Create a <b>Tokenizer</b> from the text column.\n",
        "3. Create a <b>StopWordsRemover</b> to remove the <b>stop words</b> from the column obtained from the <b>Tokenizer</b>.\n",
        "4. Create a <b>CountVectorizer</b> after removing the <b>stop words</b>.\n",
        "5. Create the <b>TF-IDF</b> from the <b>CountVectorizer</b>."
      ],
      "id": "225067d5"
    },
    {
      "cell_type": "code",
      "metadata": {
        "id": "6a4eebf8"
      },
      "source": [
        "from pyspark.ml.feature import Tokenizer,StopWordsRemover, CountVectorizer,IDF,StringIndexer"
      ],
      "id": "6a4eebf8",
      "execution_count": null,
      "outputs": []
    },
    {
      "cell_type": "code",
      "metadata": {
        "id": "b82756db"
      },
      "source": [
        "tokenizer = Tokenizer(inputCol=\"text\", outputCol=\"token_out\")\n",
        "stopwords = StopWordsRemover(inputCol='token_out',outputCol='stop_out')\n",
        "count_vec = CountVectorizer(inputCol='stop_out',outputCol='count_vector')\n",
        "idf = IDF(inputCol=\"count_vector\", outputCol=\"tf_idf\")"
      ],
      "id": "b82756db",
      "execution_count": null,
      "outputs": []
    },
    {
      "cell_type": "markdown",
      "metadata": {
        "id": "1527ad65"
      },
      "source": [
        "- Convert the <b>class column</b> to index using <b>StringIndexer</b>\n",
        "- Create feature column from the <b>TF-IDF</b> and <b>lenght</b> columns."
      ],
      "id": "1527ad65"
    },
    {
      "cell_type": "code",
      "metadata": {
        "id": "aaf46159"
      },
      "source": [
        "stringConv = StringIndexer(inputCol='class',outputCol='label')"
      ],
      "id": "aaf46159",
      "execution_count": null,
      "outputs": []
    },
    {
      "cell_type": "code",
      "metadata": {
        "id": "ad9d4c52"
      },
      "source": [
        "from pyspark.ml.feature import VectorAssembler\n",
        "features=VectorAssembler(inputCols=['tf_idf','lenOtext'],outputCol='features')"
      ],
      "id": "ad9d4c52",
      "execution_count": null,
      "outputs": []
    },
    {
      "cell_type": "markdown",
      "metadata": {
        "id": "9775d494"
      },
      "source": [
        "## The Model\n",
        "- Create a <b>NaiveBayes</b> classifier with the default parameters."
      ],
      "id": "9775d494"
    },
    {
      "cell_type": "code",
      "metadata": {
        "id": "57af0d5d"
      },
      "source": [
        "from pyspark.ml.classification import NaiveBayes\n"
      ],
      "id": "57af0d5d",
      "execution_count": null,
      "outputs": []
    },
    {
      "cell_type": "code",
      "metadata": {
        "id": "54c7384e"
      },
      "source": [
        "classifier=NaiveBayes()"
      ],
      "id": "54c7384e",
      "execution_count": null,
      "outputs": []
    },
    {
      "cell_type": "markdown",
      "metadata": {
        "id": "dc14de63"
      },
      "source": [
        "## Pipeline\n",
        "### Create a pipeline model contains all the steps starting from the Tokenizer to the NaiveBays classifier."
      ],
      "id": "dc14de63"
    },
    {
      "cell_type": "code",
      "metadata": {
        "id": "8ee0d1ca"
      },
      "source": [
        "from pyspark.ml.pipeline import Pipeline"
      ],
      "id": "8ee0d1ca",
      "execution_count": null,
      "outputs": []
    },
    {
      "cell_type": "code",
      "metadata": {
        "id": "7f82bab0"
      },
      "source": [
        "pipe=Pipeline(stages=[stringConv,tokenizer,stopwords,count_vec,idf,features,classifier])"
      ],
      "id": "7f82bab0",
      "execution_count": null,
      "outputs": []
    },
    {
      "cell_type": "markdown",
      "metadata": {
        "id": "f5d7efbe"
      },
      "source": [
        "### Split your data to trian and test data with ratios 0.7 and 0.3 respectively."
      ],
      "id": "f5d7efbe"
    },
    {
      "cell_type": "code",
      "metadata": {
        "id": "2843d997"
      },
      "source": [
        "seed = 42\n",
        "splits = df.randomSplit([0.7, 0.3], seed)\n",
        "train_df = splits[0]\n",
        "test_df = splits[1]"
      ],
      "id": "2843d997",
      "execution_count": null,
      "outputs": []
    },
    {
      "cell_type": "markdown",
      "metadata": {
        "id": "8bcea576"
      },
      "source": [
        "### Fit your Pipeline model to the training data"
      ],
      "id": "8bcea576"
    },
    {
      "cell_type": "code",
      "metadata": {
        "id": "3c5d4681"
      },
      "source": [
        "pipeline_model=pipe.fit(train_df)"
      ],
      "id": "3c5d4681",
      "execution_count": null,
      "outputs": []
    },
    {
      "cell_type": "markdown",
      "metadata": {
        "id": "228a3eb1"
      },
      "source": [
        "### Perform predictions on tests dataframe"
      ],
      "id": "228a3eb1"
    },
    {
      "cell_type": "code",
      "metadata": {
        "id": "14f4aab5"
      },
      "source": [
        "Test1=pipeline_model.transform(test_df)"
      ],
      "id": "14f4aab5",
      "execution_count": null,
      "outputs": []
    },
    {
      "cell_type": "markdown",
      "metadata": {
        "id": "bce2885f"
      },
      "source": [
        "### Print the schema of the prediction dataframe"
      ],
      "id": "bce2885f"
    },
    {
      "cell_type": "code",
      "metadata": {
        "colab": {
          "base_uri": "https://localhost:8080/"
        },
        "id": "6e3ea341",
        "outputId": "b193bc26-987b-45c7-b317-3d13dc5ae8ac"
      },
      "source": [
        "Test1.printSchema()"
      ],
      "id": "6e3ea341",
      "execution_count": null,
      "outputs": [
        {
          "output_type": "stream",
          "name": "stdout",
          "text": [
            "root\n",
            " |-- class: string (nullable = true)\n",
            " |-- text: string (nullable = true)\n",
            " |-- lenOtext: integer (nullable = true)\n",
            " |-- label: double (nullable = false)\n",
            " |-- token_out: array (nullable = true)\n",
            " |    |-- element: string (containsNull = true)\n",
            " |-- stop_out: array (nullable = true)\n",
            " |    |-- element: string (containsNull = true)\n",
            " |-- count_vector: vector (nullable = true)\n",
            " |-- tf_idf: vector (nullable = true)\n",
            " |-- features: vector (nullable = true)\n",
            " |-- rawPrediction: vector (nullable = true)\n",
            " |-- probability: vector (nullable = true)\n",
            " |-- prediction: double (nullable = false)\n",
            "\n"
          ]
        }
      ]
    },
    {
      "cell_type": "markdown",
      "metadata": {
        "id": "57f27055"
      },
      "source": [
        "## Model Evaluation\n",
        "- Use <b>MulticlassClassificationEvaluator</b> to calculate the <b>f1_score</b>."
      ],
      "id": "57f27055"
    },
    {
      "cell_type": "code",
      "metadata": {
        "id": "61911086"
      },
      "source": [
        "from pyspark.ml.evaluation import MulticlassClassificationEvaluator"
      ],
      "id": "61911086",
      "execution_count": null,
      "outputs": []
    },
    {
      "cell_type": "code",
      "metadata": {
        "id": "be706565"
      },
      "source": [
        "eval=MulticlassClassificationEvaluator()\n",
        "score1=eval.evaluate(Test1)"
      ],
      "id": "be706565",
      "execution_count": null,
      "outputs": []
    },
    {
      "cell_type": "code",
      "metadata": {
        "colab": {
          "base_uri": "https://localhost:8080/"
        },
        "id": "af1f9ba1",
        "outputId": "9d45f241-d9b7-4666-a926-952e56470f70"
      },
      "source": [
        "score1"
      ],
      "id": "af1f9ba1",
      "execution_count": null,
      "outputs": [
        {
          "output_type": "execute_result",
          "data": {
            "text/plain": [
              "0.9727502290227267"
            ]
          },
          "metadata": {},
          "execution_count": 49
        }
      ]
    },
    {
      "cell_type": "markdown",
      "metadata": {
        "id": "e00e7b53"
      },
      "source": [
        "# GOOD LUCK\n",
        "<b><font color='GREEN'>AI-PRO Spark Team ITI</font></b>"
      ],
      "id": "e00e7b53"
    }
  ]
}